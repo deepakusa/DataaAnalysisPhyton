{
    "nbformat_minor": 1, 
    "cells": [
        {
            "source": "!pip install beautifulsoup4", 
            "cell_type": "markdown", 
            "metadata": {}
        }, 
        {
            "source": "!pip install lxml", 
            "cell_type": "code", 
            "metadata": {}, 
            "outputs": [
                {
                    "output_type": "stream", 
                    "name": "stdout", 
                    "text": "Requirement not upgraded as not directly required: lxml in /opt/conda/envs/DSX-Python35/lib/python3.5/site-packages\r\n"
                }
            ], 
            "execution_count": 2
        }, 
        {
            "source": "!pip install html5lib", 
            "cell_type": "code", 
            "metadata": {}, 
            "outputs": [
                {
                    "output_type": "stream", 
                    "name": "stdout", 
                    "text": "Requirement not upgraded as not directly required: html5lib in /opt/conda/envs/DSX-Python35/lib/python3.5/site-packages\r\nRequirement not upgraded as not directly required: six in /opt/conda/envs/DSX-Python35/lib/python3.5/site-packages (from html5lib)\r\nRequirement not upgraded as not directly required: webencodings in /opt/conda/envs/DSX-Python35/lib/python3.5/site-packages (from html5lib)\r\nRequirement not upgraded as not directly required: setuptools>=18.5 in /opt/conda/envs/DSX-Python35/lib/python3.5/site-packages (from html5lib)\r\n"
                }
            ], 
            "execution_count": 3
        }, 
        {
            "source": "!pip install request\n!pip install MechanicalSoup", 
            "cell_type": "code", 
            "metadata": {}, 
            "outputs": [
                {
                    "output_type": "stream", 
                    "name": "stdout", 
                    "text": "Requirement not upgraded as not directly required: request in /opt/conda/envs/DSX-Python35/lib/python3.5/site-packages\nRequirement not upgraded as not directly required: setuptools in /opt/conda/envs/DSX-Python35/lib/python3.5/site-packages (from request)\nRequirement not upgraded as not directly required: get in /opt/conda/envs/DSX-Python35/lib/python3.5/site-packages (from request)\nRequirement not upgraded as not directly required: post in /opt/conda/envs/DSX-Python35/lib/python3.5/site-packages (from request)\nRequirement not upgraded as not directly required: query-string in /opt/conda/envs/DSX-Python35/lib/python3.5/site-packages (from get->request)\nRequirement not upgraded as not directly required: public in /opt/conda/envs/DSX-Python35/lib/python3.5/site-packages (from query-string->get->request)\nCollecting MechanicalSoup\n  Downloading https://files.pythonhosted.org/packages/f6/6a/263f3e12d50e3272abf3842e13a3c991cda4af0f253e9c73a41d0b8387c3/MechanicalSoup-0.11.0-py2.py3-none-any.whl\nRequirement not upgraded as not directly required: lxml in /opt/conda/envs/DSX-Python35/lib/python3.5/site-packages (from MechanicalSoup)\nRequirement not upgraded as not directly required: beautifulsoup4 in /opt/conda/envs/DSX-Python35/lib/python3.5/site-packages (from MechanicalSoup)\nRequirement not upgraded as not directly required: six>=1.4 in /opt/conda/envs/DSX-Python35/lib/python3.5/site-packages (from MechanicalSoup)\nRequirement not upgraded as not directly required: requests>=2.0 in /opt/conda/envs/DSX-Python35/lib/python3.5/site-packages (from MechanicalSoup)\nRequirement not upgraded as not directly required: chardet<3.1.0,>=3.0.2 in /opt/conda/envs/DSX-Python35/lib/python3.5/site-packages (from requests>=2.0->MechanicalSoup)\nRequirement not upgraded as not directly required: idna<2.7,>=2.5 in /opt/conda/envs/DSX-Python35/lib/python3.5/site-packages (from requests>=2.0->MechanicalSoup)\nRequirement not upgraded as not directly required: urllib3<1.23,>=1.21.1 in /opt/conda/envs/DSX-Python35/lib/python3.5/site-packages (from requests>=2.0->MechanicalSoup)\nRequirement not upgraded as not directly required: certifi>=2017.4.17 in /opt/conda/envs/DSX-Python35/lib/python3.5/site-packages (from requests>=2.0->MechanicalSoup)\nInstalling collected packages: MechanicalSoup\nSuccessfully installed MechanicalSoup-0.11.0\n"
                }
            ], 
            "execution_count": 14
        }, 
        {
            "source": "from bs4 import BeautifulSoup\nimport requests\nimport pandas as pd\nimport numpy as np\nimport mechanicalsoup\nimport sys\nimport warnings\n\n#pd.set_option('display.expand_frame_repr', False)\nif not sys.warnoptions:\n    warnings.simplefilter(\"ignore\")\n\n\nsource = requests.get ('https://en.wikipedia.org/wiki/List_of_postal_codes_of_Canada:_M').text\n\nbrowser = mechanicalsoup.Browser(soup_config={\"features\":\"lxml\"})\n\nsoup = BeautifulSoup(source, 'lxml')\n#print(soup.prettify())\n\ntable = soup.find('table')\n#print (table.prettify)\ntable = BeautifulSoup(source).find('table')\ndf = pd.read_html(str(table))\n\n\ndata = {'Postcode':df[0][0][1:290],'Borough':df[0][1][1:290],'Neighbourhood':df[0][2][1:290]}\ndf = pd.DataFrame(data)\ndf=df.loc[df['Borough'] != 'Not assigned']\n\n#ids = df[\"Postcode\"]\n#duplicate= df[ids.isin(ids[ids.duplicated()])]\n\ndf.sort_values('Postcode')\n\ndulicate =\"test\"\ndfNoDuplicate = df\n\nmy_list = list()\nNeighbourhood =''\ni=0\nduplicateRecords =0\nfor index, row in df.iterrows():\n     \n    if row['Postcode'] == dulicate:\n        dulicate=row['Postcode']\n        my_list.append(i-1)\n        row['Neighbourhood'] = row['Neighbourhood'] +', ' + Neighbourhood.replace(',','')\n        Neighbourhood = ''\n        i= i+1\n    else :\n        dulicate=row['Postcode']\n        i= i+1\n        Neighbourhood = ''\n        Neighbourhood = row['Neighbourhood'] +', ' +Neighbourhood\n \n    if row['Neighbourhood'] == 'Not assigned' :\n        row['Neighbourhood'] = row['Borough']\ndfNoDuplicate = dfNoDuplicate.drop(dfNoDuplicate.index[my_list])\ndfNoDuplicate.style.set_properties(**{'text-align': 'left'})\nprint (dfNoDuplicate[['Postcode', 'Borough', 'Neighbourhood']])\ndfNoDuplicate.shape", 
            "cell_type": "code", 
            "metadata": {}, 
            "outputs": [
                {
                    "output_type": "stream", 
                    "name": "stdout", 
                    "text": "    Postcode           Borough                                      Neighbourhood\n3        M3A        North York                                          Parkwoods\n4        M4A        North York                                   Victoria Village\n6        M5A  Downtown Toronto                         Regent Park, Harbourfront \n8        M6A        North York                  Lawrence Manor, Lawrence Heights \n9        M7A      Queen's Park                                       Queen's Park\n11       M9A         Etobicoke                                   Islington Avenue\n13       M1B       Scarborough                                    Malvern, Rouge \n15       M3B        North York                                    Don Mills North\n17       M4B         East York                   Parkview Hill, Woodbine Gardens \n19       M5B  Downtown Toronto                          Garden District, Ryerson \n20       M6B        North York                                          Glencairn\n27       M9B         Etobicoke                                  West Deane Park, \n30       M1C       Scarborough                                       Port Union, \n33       M3C        North York                  Don Mills South, Flemingdon Park \n34       M4C         East York                                   Woodbine Heights\n35       M5C  Downtown Toronto                                     St. James Town\n36       M6C              York                                 Humewood-Cedarvale\n42       M9C         Etobicoke                                Old Burnhamthorpe, \n45       M1E       Scarborough                                        West Hill, \n48       M4E      East Toronto                                        The Beaches\n49       M5E  Downtown Toronto                                        Berczy Park\n50       M6E              York                                Caledonia-Fairbanks\n54       M1G       Scarborough                                             Woburn\n57       M4G         East York                                            Leaside\n58       M5G  Downtown Toronto                                 Central Bay Street\n59       M6G  Downtown Toronto                                           Christie\n63       M1H       Scarborough                                          Cedarbrae\n64       M2H        North York                                  Hillcrest Village\n67       M3H        North York                                   Wilson Heights, \n68       M4H         East York                                   Thorncliffe Park\n..       ...               ...                                                ...\n169      M4R   Central Toronto                                 North Toronto West\n172      M5R   Central Toronto                                        Yorkville, \n174      M6R      West Toronto                            Roncesvalles, Parkdale \n175      M7R       Mississauga              Canada Post Gateway Processing Centre\n180      M9R         Etobicoke                                     St. Phillips, \n181      M1S       Scarborough                                          Agincourt\n184      M4S   Central Toronto                                         Davisville\n186      M5S  Downtown Toronto                    University of Toronto, Harbord \n188      M6S      West Toronto                                Swansea, Runnymede \n194      M1T       Scarborough                                    Tam O'Shanter, \n198      M4T   Central Toronto                       Summerhill East, Moore Park \n201      M5T  Downtown Toronto                                Kensington Market, \n209      M1V       Scarborough                                     Steeles East, \n216      M4V   Central Toronto                                  Summerhill West, \n223      M5V  Downtown Toronto                                    South Niagara, \n228      M8V         Etobicoke                                      New Toronto, \n236      M9V         Etobicoke                                      Thistletown, \n238      M1W       Scarborough                     Steeles West, L'Amoreaux West \n241      M4W  Downtown Toronto                                           Rosedale\n242      M5W  Downtown Toronto                    Stn A PO Boxes 25 The Esplanade\n246      M8W         Etobicoke                            Long Branch, Alderwood \n247      M9W         Etobicoke                                          Northwest\n248      M1X       Scarborough                                        Upper Rouge\n252      M4X  Downtown Toronto                       St. James Town, Cabbagetown \n254      M5X  Downtown Toronto            Underground city, First Canadian Place \n259      M8X         Etobicoke                                   Old Mill North, \n264      M4Y  Downtown Toronto                               Church and Wellesley\n267      M7Y      East Toronto  Business Reply Mail Processing Centre 969 Eastern\n275      M8Y         Etobicoke                                         Sunnylea, \n288      M8Z         Etobicoke                                   South of Bloor, \n\n[103 rows x 3 columns]\n"
                }, 
                {
                    "output_type": "execute_result", 
                    "data": {
                        "text/plain": "(103, 3)"
                    }, 
                    "execution_count": 29, 
                    "metadata": {}
                }
            ], 
            "execution_count": 29
        }, 
        {
            "source": "## Project Details\n I have downloaded the website data from Wikipedia page  to analyze neighborhoods. As per the need i have removed the duplicate data and added the Neighbourhood details in one record.\n\n## Asumptions \nThe is project scope is to scrap the website data and format the data in the way we want (Format).", 
            "cell_type": "markdown", 
            "metadata": {}
        }, 
        {
            "source": "\n", 
            "cell_type": "code", 
            "metadata": {}, 
            "outputs": [], 
            "execution_count": null
        }
    ], 
    "metadata": {
        "kernelspec": {
            "display_name": "Python 3.5", 
            "name": "python3", 
            "language": "python"
        }, 
        "language_info": {
            "mimetype": "text/x-python", 
            "nbconvert_exporter": "python", 
            "version": "3.5.5", 
            "name": "python", 
            "pygments_lexer": "ipython3", 
            "file_extension": ".py", 
            "codemirror_mode": {
                "version": 3, 
                "name": "ipython"
            }
        }
    }, 
    "nbformat": 4
}