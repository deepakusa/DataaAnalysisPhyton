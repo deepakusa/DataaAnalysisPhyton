{
    "nbformat_minor": 1, 
    "cells": [
        {
            "source": "!pip install beautifulsoup4", 
            "cell_type": "markdown", 
            "metadata": {}
        }, 
        {
            "source": "!pip install lxml", 
            "cell_type": "code", 
            "metadata": {}, 
            "outputs": [
                {
                    "output_type": "stream", 
                    "name": "stdout", 
                    "text": "Requirement not upgraded as not directly required: lxml in /opt/conda/envs/DSX-Python35/lib/python3.5/site-packages\r\n"
                }
            ], 
            "execution_count": 2
        }, 
        {
            "source": "!pip install html5lib", 
            "cell_type": "code", 
            "metadata": {}, 
            "outputs": [
                {
                    "output_type": "stream", 
                    "name": "stdout", 
                    "text": "Requirement not upgraded as not directly required: html5lib in /opt/conda/envs/DSX-Python35/lib/python3.5/site-packages\r\nRequirement not upgraded as not directly required: six in /opt/conda/envs/DSX-Python35/lib/python3.5/site-packages (from html5lib)\r\nRequirement not upgraded as not directly required: webencodings in /opt/conda/envs/DSX-Python35/lib/python3.5/site-packages (from html5lib)\r\nRequirement not upgraded as not directly required: setuptools>=18.5 in /opt/conda/envs/DSX-Python35/lib/python3.5/site-packages (from html5lib)\r\n"
                }
            ], 
            "execution_count": 3
        }, 
        {
            "source": "!pip install request\n!pip install MechanicalSoup", 
            "cell_type": "code", 
            "metadata": {}, 
            "outputs": [
                {
                    "output_type": "stream", 
                    "name": "stdout", 
                    "text": "Requirement not upgraded as not directly required: request in /opt/conda/envs/DSX-Python35/lib/python3.5/site-packages\nRequirement not upgraded as not directly required: setuptools in /opt/conda/envs/DSX-Python35/lib/python3.5/site-packages (from request)\nRequirement not upgraded as not directly required: get in /opt/conda/envs/DSX-Python35/lib/python3.5/site-packages (from request)\nRequirement not upgraded as not directly required: post in /opt/conda/envs/DSX-Python35/lib/python3.5/site-packages (from request)\nRequirement not upgraded as not directly required: query-string in /opt/conda/envs/DSX-Python35/lib/python3.5/site-packages (from get->request)\nRequirement not upgraded as not directly required: public in /opt/conda/envs/DSX-Python35/lib/python3.5/site-packages (from query-string->get->request)\nCollecting MechanicalSoup\n  Downloading https://files.pythonhosted.org/packages/f6/6a/263f3e12d50e3272abf3842e13a3c991cda4af0f253e9c73a41d0b8387c3/MechanicalSoup-0.11.0-py2.py3-none-any.whl\nRequirement not upgraded as not directly required: lxml in /opt/conda/envs/DSX-Python35/lib/python3.5/site-packages (from MechanicalSoup)\nRequirement not upgraded as not directly required: beautifulsoup4 in /opt/conda/envs/DSX-Python35/lib/python3.5/site-packages (from MechanicalSoup)\nRequirement not upgraded as not directly required: six>=1.4 in /opt/conda/envs/DSX-Python35/lib/python3.5/site-packages (from MechanicalSoup)\nRequirement not upgraded as not directly required: requests>=2.0 in /opt/conda/envs/DSX-Python35/lib/python3.5/site-packages (from MechanicalSoup)\nRequirement not upgraded as not directly required: chardet<3.1.0,>=3.0.2 in /opt/conda/envs/DSX-Python35/lib/python3.5/site-packages (from requests>=2.0->MechanicalSoup)\nRequirement not upgraded as not directly required: idna<2.7,>=2.5 in /opt/conda/envs/DSX-Python35/lib/python3.5/site-packages (from requests>=2.0->MechanicalSoup)\nRequirement not upgraded as not directly required: urllib3<1.23,>=1.21.1 in /opt/conda/envs/DSX-Python35/lib/python3.5/site-packages (from requests>=2.0->MechanicalSoup)\nRequirement not upgraded as not directly required: certifi>=2017.4.17 in /opt/conda/envs/DSX-Python35/lib/python3.5/site-packages (from requests>=2.0->MechanicalSoup)\nInstalling collected packages: MechanicalSoup\nSuccessfully installed MechanicalSoup-0.11.0\n"
                }
            ], 
            "execution_count": 14
        }, 
        {
            "source": "from bs4 import BeautifulSoup\nimport requests\nimport pandas as pd\nimport numpy as np\nimport sys\nimport warnings", 
            "cell_type": "code", 
            "metadata": {}, 
            "outputs": [], 
            "execution_count": 3
        }, 
        {
            "source": "## Read the website using request object and keep it in a soup object", 
            "cell_type": "markdown", 
            "metadata": {}
        }, 
        {
            "source": "pd.set_option('display.expand_frame_repr', False)\n\nif not sys.warnoptions:\n    warnings.simplefilter(\"ignore\")\n\nsource = requests.get ('https://en.wikipedia.org/wiki/List_of_postal_codes_of_Canada:_M').text\n\nsoup = BeautifulSoup(source, 'lxml')\n", 
            "cell_type": "code", 
            "metadata": {}, 
            "outputs": [], 
            "execution_count": 9
        }, 
        {
            "source": "## Read the Table tag data using BeautifulSoup and cover the data to dataframe", 
            "cell_type": "markdown", 
            "metadata": {}
        }, 
        {
            "source": "table = soup.find('table')\ntable = BeautifulSoup(source).find('table')\ndf = pd.read_html(str(table))\n\n\ndata = {'Postcode':df[0][0][1:290],'Borough':df[0][1][1:290],'Neighbourhood':df[0][2][1:290]}\ndf = pd.DataFrame(data)\ndf=df.loc[df['Borough'] != 'Not assigned']\ndf.sort_values('Postcode')", 
            "cell_type": "code", 
            "metadata": {}, 
            "outputs": [
                {
                    "output_type": "execute_result", 
                    "data": {
                        "text/plain": "         Borough             Neighbourhood Postcode\n12   Scarborough                     Rouge      M1B\n13   Scarborough                   Malvern      M1B\n30   Scarborough                Port Union      M1C\n29   Scarborough                Rouge Hill      M1C\n28   Scarborough            Highland Creek      M1C\n43   Scarborough                 Guildwood      M1E\n44   Scarborough               Morningside      M1E\n45   Scarborough                 West Hill      M1E\n54   Scarborough                    Woburn      M1G\n63   Scarborough                 Cedarbrae      M1H\n77   Scarborough       Scarborough Village      M1J\n92   Scarborough      East Birchmount Park      M1K\n93   Scarborough                   Ionview      M1K\n94   Scarborough              Kennedy Park      M1K\n109  Scarborough               Golden Mile      M1L\n110  Scarborough                  Oakridge      M1L\n108  Scarborough                  Clairlea      M1L\n124  Scarborough                Cliffcrest      M1M\n126  Scarborough  Scarborough Village West      M1M\n125  Scarborough                 Cliffside      M1M\n142  Scarborough            Cliffside West      M1N\n141  Scarborough               Birch Cliff      M1N\n154  Scarborough           Wexford Heights      M1P\n152  Scarborough               Dorset Park      M1P\n153  Scarborough   Scarborough Town Centre      M1P\n165  Scarborough                  Maryvale      M1R\n166  Scarborough                   Wexford      M1R\n181  Scarborough                 Agincourt      M1S\n193  Scarborough                  Sullivan      M1T\n192  Scarborough            Clarks Corners      M1T\n..           ...                       ...      ...\n288    Etobicoke            South of Bloor      M8Z\n287    Etobicoke     Royal York South West      M8Z\n11     Etobicoke          Islington Avenue      M9A\n23     Etobicoke                Cloverdale      M9B\n27     Etobicoke           West Deane Park      M9B\n26     Etobicoke          Princess Gardens      M9B\n25     Etobicoke              Martin Grove      M9B\n24     Etobicoke                 Islington      M9B\n42     Etobicoke         Old Burnhamthorpe      M9C\n41     Etobicoke             Markland Wood      M9C\n40     Etobicoke                  Eringate      M9C\n39     Etobicoke         Bloordale Gardens      M9C\n123   North York             Humber Summit      M9L\n140   North York                 Humberlea      M9M\n139   North York                     Emery      M9M\n151         York                    Weston      M9N\n164    Etobicoke                 Westmount      M9P\n179    Etobicoke          Richview Gardens      M9R\n177    Etobicoke         Kingsview Village      M9R\n180    Etobicoke              St. Phillips      M9R\n178    Etobicoke      Martin Grove Gardens      M9R\n230    Etobicoke          Beaumond Heights      M9V\n231    Etobicoke                Humbergate      M9V\n232    Etobicoke                 Jamestown      M9V\n233    Etobicoke               Mount Olive      M9V\n234    Etobicoke               Silverstone      M9V\n236    Etobicoke               Thistletown      M9V\n229    Etobicoke            Albion Gardens      M9V\n235    Etobicoke             South Steeles      M9V\n247    Etobicoke                 Northwest      M9W\n\n[212 rows x 3 columns]", 
                        "text/html": "<div>\n<style scoped>\n    .dataframe tbody tr th:only-of-type {\n        vertical-align: middle;\n    }\n\n    .dataframe tbody tr th {\n        vertical-align: top;\n    }\n\n    .dataframe thead th {\n        text-align: right;\n    }\n</style>\n<table border=\"1\" class=\"dataframe\">\n  <thead>\n    <tr style=\"text-align: right;\">\n      <th></th>\n      <th>Borough</th>\n      <th>Neighbourhood</th>\n      <th>Postcode</th>\n    </tr>\n  </thead>\n  <tbody>\n    <tr>\n      <th>12</th>\n      <td>Scarborough</td>\n      <td>Rouge</td>\n      <td>M1B</td>\n    </tr>\n    <tr>\n      <th>13</th>\n      <td>Scarborough</td>\n      <td>Malvern</td>\n      <td>M1B</td>\n    </tr>\n    <tr>\n      <th>30</th>\n      <td>Scarborough</td>\n      <td>Port Union</td>\n      <td>M1C</td>\n    </tr>\n    <tr>\n      <th>29</th>\n      <td>Scarborough</td>\n      <td>Rouge Hill</td>\n      <td>M1C</td>\n    </tr>\n    <tr>\n      <th>28</th>\n      <td>Scarborough</td>\n      <td>Highland Creek</td>\n      <td>M1C</td>\n    </tr>\n    <tr>\n      <th>43</th>\n      <td>Scarborough</td>\n      <td>Guildwood</td>\n      <td>M1E</td>\n    </tr>\n    <tr>\n      <th>44</th>\n      <td>Scarborough</td>\n      <td>Morningside</td>\n      <td>M1E</td>\n    </tr>\n    <tr>\n      <th>45</th>\n      <td>Scarborough</td>\n      <td>West Hill</td>\n      <td>M1E</td>\n    </tr>\n    <tr>\n      <th>54</th>\n      <td>Scarborough</td>\n      <td>Woburn</td>\n      <td>M1G</td>\n    </tr>\n    <tr>\n      <th>63</th>\n      <td>Scarborough</td>\n      <td>Cedarbrae</td>\n      <td>M1H</td>\n    </tr>\n    <tr>\n      <th>77</th>\n      <td>Scarborough</td>\n      <td>Scarborough Village</td>\n      <td>M1J</td>\n    </tr>\n    <tr>\n      <th>92</th>\n      <td>Scarborough</td>\n      <td>East Birchmount Park</td>\n      <td>M1K</td>\n    </tr>\n    <tr>\n      <th>93</th>\n      <td>Scarborough</td>\n      <td>Ionview</td>\n      <td>M1K</td>\n    </tr>\n    <tr>\n      <th>94</th>\n      <td>Scarborough</td>\n      <td>Kennedy Park</td>\n      <td>M1K</td>\n    </tr>\n    <tr>\n      <th>109</th>\n      <td>Scarborough</td>\n      <td>Golden Mile</td>\n      <td>M1L</td>\n    </tr>\n    <tr>\n      <th>110</th>\n      <td>Scarborough</td>\n      <td>Oakridge</td>\n      <td>M1L</td>\n    </tr>\n    <tr>\n      <th>108</th>\n      <td>Scarborough</td>\n      <td>Clairlea</td>\n      <td>M1L</td>\n    </tr>\n    <tr>\n      <th>124</th>\n      <td>Scarborough</td>\n      <td>Cliffcrest</td>\n      <td>M1M</td>\n    </tr>\n    <tr>\n      <th>126</th>\n      <td>Scarborough</td>\n      <td>Scarborough Village West</td>\n      <td>M1M</td>\n    </tr>\n    <tr>\n      <th>125</th>\n      <td>Scarborough</td>\n      <td>Cliffside</td>\n      <td>M1M</td>\n    </tr>\n    <tr>\n      <th>142</th>\n      <td>Scarborough</td>\n      <td>Cliffside West</td>\n      <td>M1N</td>\n    </tr>\n    <tr>\n      <th>141</th>\n      <td>Scarborough</td>\n      <td>Birch Cliff</td>\n      <td>M1N</td>\n    </tr>\n    <tr>\n      <th>154</th>\n      <td>Scarborough</td>\n      <td>Wexford Heights</td>\n      <td>M1P</td>\n    </tr>\n    <tr>\n      <th>152</th>\n      <td>Scarborough</td>\n      <td>Dorset Park</td>\n      <td>M1P</td>\n    </tr>\n    <tr>\n      <th>153</th>\n      <td>Scarborough</td>\n      <td>Scarborough Town Centre</td>\n      <td>M1P</td>\n    </tr>\n    <tr>\n      <th>165</th>\n      <td>Scarborough</td>\n      <td>Maryvale</td>\n      <td>M1R</td>\n    </tr>\n    <tr>\n      <th>166</th>\n      <td>Scarborough</td>\n      <td>Wexford</td>\n      <td>M1R</td>\n    </tr>\n    <tr>\n      <th>181</th>\n      <td>Scarborough</td>\n      <td>Agincourt</td>\n      <td>M1S</td>\n    </tr>\n    <tr>\n      <th>193</th>\n      <td>Scarborough</td>\n      <td>Sullivan</td>\n      <td>M1T</td>\n    </tr>\n    <tr>\n      <th>192</th>\n      <td>Scarborough</td>\n      <td>Clarks Corners</td>\n      <td>M1T</td>\n    </tr>\n    <tr>\n      <th>...</th>\n      <td>...</td>\n      <td>...</td>\n      <td>...</td>\n    </tr>\n    <tr>\n      <th>288</th>\n      <td>Etobicoke</td>\n      <td>South of Bloor</td>\n      <td>M8Z</td>\n    </tr>\n    <tr>\n      <th>287</th>\n      <td>Etobicoke</td>\n      <td>Royal York South West</td>\n      <td>M8Z</td>\n    </tr>\n    <tr>\n      <th>11</th>\n      <td>Etobicoke</td>\n      <td>Islington Avenue</td>\n      <td>M9A</td>\n    </tr>\n    <tr>\n      <th>23</th>\n      <td>Etobicoke</td>\n      <td>Cloverdale</td>\n      <td>M9B</td>\n    </tr>\n    <tr>\n      <th>27</th>\n      <td>Etobicoke</td>\n      <td>West Deane Park</td>\n      <td>M9B</td>\n    </tr>\n    <tr>\n      <th>26</th>\n      <td>Etobicoke</td>\n      <td>Princess Gardens</td>\n      <td>M9B</td>\n    </tr>\n    <tr>\n      <th>25</th>\n      <td>Etobicoke</td>\n      <td>Martin Grove</td>\n      <td>M9B</td>\n    </tr>\n    <tr>\n      <th>24</th>\n      <td>Etobicoke</td>\n      <td>Islington</td>\n      <td>M9B</td>\n    </tr>\n    <tr>\n      <th>42</th>\n      <td>Etobicoke</td>\n      <td>Old Burnhamthorpe</td>\n      <td>M9C</td>\n    </tr>\n    <tr>\n      <th>41</th>\n      <td>Etobicoke</td>\n      <td>Markland Wood</td>\n      <td>M9C</td>\n    </tr>\n    <tr>\n      <th>40</th>\n      <td>Etobicoke</td>\n      <td>Eringate</td>\n      <td>M9C</td>\n    </tr>\n    <tr>\n      <th>39</th>\n      <td>Etobicoke</td>\n      <td>Bloordale Gardens</td>\n      <td>M9C</td>\n    </tr>\n    <tr>\n      <th>123</th>\n      <td>North York</td>\n      <td>Humber Summit</td>\n      <td>M9L</td>\n    </tr>\n    <tr>\n      <th>140</th>\n      <td>North York</td>\n      <td>Humberlea</td>\n      <td>M9M</td>\n    </tr>\n    <tr>\n      <th>139</th>\n      <td>North York</td>\n      <td>Emery</td>\n      <td>M9M</td>\n    </tr>\n    <tr>\n      <th>151</th>\n      <td>York</td>\n      <td>Weston</td>\n      <td>M9N</td>\n    </tr>\n    <tr>\n      <th>164</th>\n      <td>Etobicoke</td>\n      <td>Westmount</td>\n      <td>M9P</td>\n    </tr>\n    <tr>\n      <th>179</th>\n      <td>Etobicoke</td>\n      <td>Richview Gardens</td>\n      <td>M9R</td>\n    </tr>\n    <tr>\n      <th>177</th>\n      <td>Etobicoke</td>\n      <td>Kingsview Village</td>\n      <td>M9R</td>\n    </tr>\n    <tr>\n      <th>180</th>\n      <td>Etobicoke</td>\n      <td>St. Phillips</td>\n      <td>M9R</td>\n    </tr>\n    <tr>\n      <th>178</th>\n      <td>Etobicoke</td>\n      <td>Martin Grove Gardens</td>\n      <td>M9R</td>\n    </tr>\n    <tr>\n      <th>230</th>\n      <td>Etobicoke</td>\n      <td>Beaumond Heights</td>\n      <td>M9V</td>\n    </tr>\n    <tr>\n      <th>231</th>\n      <td>Etobicoke</td>\n      <td>Humbergate</td>\n      <td>M9V</td>\n    </tr>\n    <tr>\n      <th>232</th>\n      <td>Etobicoke</td>\n      <td>Jamestown</td>\n      <td>M9V</td>\n    </tr>\n    <tr>\n      <th>233</th>\n      <td>Etobicoke</td>\n      <td>Mount Olive</td>\n      <td>M9V</td>\n    </tr>\n    <tr>\n      <th>234</th>\n      <td>Etobicoke</td>\n      <td>Silverstone</td>\n      <td>M9V</td>\n    </tr>\n    <tr>\n      <th>236</th>\n      <td>Etobicoke</td>\n      <td>Thistletown</td>\n      <td>M9V</td>\n    </tr>\n    <tr>\n      <th>229</th>\n      <td>Etobicoke</td>\n      <td>Albion Gardens</td>\n      <td>M9V</td>\n    </tr>\n    <tr>\n      <th>235</th>\n      <td>Etobicoke</td>\n      <td>South Steeles</td>\n      <td>M9V</td>\n    </tr>\n    <tr>\n      <th>247</th>\n      <td>Etobicoke</td>\n      <td>Northwest</td>\n      <td>M9W</td>\n    </tr>\n  </tbody>\n</table>\n<p>212 rows \u00d7 3 columns</p>\n</div>"
                    }, 
                    "execution_count": 14, 
                    "metadata": {}
                }
            ], 
            "execution_count": 14
        }, 
        {
            "source": "## Remove the duplicate\n##  Rows will be combined into one row with the neighborhoods separated with a comma\n### Cell has a borough but a Not assigned neighborhood, then the neighborhood will be the same as the borough. the 9th cell in the table on the Wikipedia page, the value of the Borough and the Neighborhood columns assigned as Queen's Park", 
            "cell_type": "markdown", 
            "metadata": {}
        }, 
        {
            "source": "dulicate =\"test\"\ndfNoDuplicate = df\n\nmy_list = list()\nNeighbourhood =''\ni=0\nduplicateRecords =0\nfor index, row in df.iterrows():\n     \n    if row['Postcode'] == dulicate:\n        dulicate=row['Postcode']\n        my_list.append(i-1)\n        row['Neighbourhood'] = row['Neighbourhood'] +', ' + Neighbourhood.replace(',','')\n        Neighbourhood = ''\n        i= i+1\n    else :\n        dulicate=row['Postcode']\n        i= i+1\n        Neighbourhood = ''\n        Neighbourhood = row['Neighbourhood'] +', ' +Neighbourhood\n \n    if row['Neighbourhood'] == 'Not assigned' :\n        row['Neighbourhood'] = row['Borough']\n        \ndfNoDuplicate = dfNoDuplicate.drop(dfNoDuplicate.index[my_list])\n", 
            "cell_type": "code", 
            "metadata": {}, 
            "outputs": [], 
            "execution_count": 11
        }, 
        {
            "source": "", 
            "cell_type": "code", 
            "metadata": {}, 
            "outputs": [], 
            "execution_count": null
        }, 
        {
            "source": "\ndfNoDuplicate.style.set_properties(**{'text-align': 'left'})\nprint (dfNoDuplicate[['Postcode', 'Borough', 'Neighbourhood']])\ndfNoDuplicate.shape", 
            "cell_type": "code", 
            "metadata": {}, 
            "outputs": [
                {
                    "output_type": "stream", 
                    "name": "stdout", 
                    "text": "    Postcode           Borough                                      Neighbourhood\n3        M3A        North York                                          Parkwoods\n4        M4A        North York                                   Victoria Village\n6        M5A  Downtown Toronto                         Regent Park, Harbourfront \n8        M6A        North York                  Lawrence Manor, Lawrence Heights \n9        M7A      Queen's Park                                       Queen's Park\n11       M9A         Etobicoke                                   Islington Avenue\n13       M1B       Scarborough                                    Malvern, Rouge \n15       M3B        North York                                    Don Mills North\n17       M4B         East York                   Parkview Hill, Woodbine Gardens \n19       M5B  Downtown Toronto                          Garden District, Ryerson \n20       M6B        North York                                          Glencairn\n27       M9B         Etobicoke                                  West Deane Park, \n30       M1C       Scarborough                                       Port Union, \n33       M3C        North York                  Don Mills South, Flemingdon Park \n34       M4C         East York                                   Woodbine Heights\n35       M5C  Downtown Toronto                                     St. James Town\n36       M6C              York                                 Humewood-Cedarvale\n42       M9C         Etobicoke                                Old Burnhamthorpe, \n45       M1E       Scarborough                                        West Hill, \n48       M4E      East Toronto                                        The Beaches\n49       M5E  Downtown Toronto                                        Berczy Park\n50       M6E              York                                Caledonia-Fairbanks\n54       M1G       Scarborough                                             Woburn\n57       M4G         East York                                            Leaside\n58       M5G  Downtown Toronto                                 Central Bay Street\n59       M6G  Downtown Toronto                                           Christie\n63       M1H       Scarborough                                          Cedarbrae\n64       M2H        North York                                  Hillcrest Village\n67       M3H        North York                                   Wilson Heights, \n68       M4H         East York                                   Thorncliffe Park\n..       ...               ...                                                ...\n169      M4R   Central Toronto                                 North Toronto West\n172      M5R   Central Toronto                                        Yorkville, \n174      M6R      West Toronto                            Roncesvalles, Parkdale \n175      M7R       Mississauga              Canada Post Gateway Processing Centre\n180      M9R         Etobicoke                                     St. Phillips, \n181      M1S       Scarborough                                          Agincourt\n184      M4S   Central Toronto                                         Davisville\n186      M5S  Downtown Toronto                    University of Toronto, Harbord \n188      M6S      West Toronto                                Swansea, Runnymede \n194      M1T       Scarborough                                    Tam O'Shanter, \n198      M4T   Central Toronto                       Summerhill East, Moore Park \n201      M5T  Downtown Toronto                                Kensington Market, \n209      M1V       Scarborough                                     Steeles East, \n216      M4V   Central Toronto                                  Summerhill West, \n223      M5V  Downtown Toronto                                    South Niagara, \n228      M8V         Etobicoke                                      New Toronto, \n236      M9V         Etobicoke                                      Thistletown, \n238      M1W       Scarborough                     Steeles West, L'Amoreaux West \n241      M4W  Downtown Toronto                                           Rosedale\n242      M5W  Downtown Toronto                    Stn A PO Boxes 25 The Esplanade\n246      M8W         Etobicoke                            Long Branch, Alderwood \n247      M9W         Etobicoke                                          Northwest\n248      M1X       Scarborough                                        Upper Rouge\n252      M4X  Downtown Toronto                       St. James Town, Cabbagetown \n254      M5X  Downtown Toronto            Underground city, First Canadian Place \n259      M8X         Etobicoke                                   Old Mill North, \n264      M4Y  Downtown Toronto                               Church and Wellesley\n267      M7Y      East Toronto  Business Reply Mail Processing Centre 969 Eastern\n275      M8Y         Etobicoke                                         Sunnylea, \n288      M8Z         Etobicoke                                   South of Bloor, \n\n[103 rows x 3 columns]\n"
                }, 
                {
                    "output_type": "execute_result", 
                    "data": {
                        "text/plain": "(103, 3)"
                    }, 
                    "execution_count": 12, 
                    "metadata": {}
                }
            ], 
            "execution_count": 12
        }, 
        {
            "source": "", 
            "cell_type": "code", 
            "metadata": {}, 
            "outputs": [], 
            "execution_count": null
        }
    ], 
    "metadata": {
        "kernelspec": {
            "display_name": "Python 3.5", 
            "name": "python3", 
            "language": "python"
        }, 
        "language_info": {
            "mimetype": "text/x-python", 
            "nbconvert_exporter": "python", 
            "version": "3.5.5", 
            "name": "python", 
            "file_extension": ".py", 
            "pygments_lexer": "ipython3", 
            "codemirror_mode": {
                "version": 3, 
                "name": "ipython"
            }
        }
    }, 
    "nbformat": 4
}