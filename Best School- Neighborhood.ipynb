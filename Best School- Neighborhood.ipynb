{
    "nbformat_minor": 1, 
    "cells": [
        {
            "source": "# Introduction/Business Problem\n\n##### Currently people are moving to different locations for their job and good education for kids. My project will be more helpful to make a decision for the working people who are more interested move to a neighborhood, which has good schools and airport facility. The good school district has more value to the neighborhood. if people buy house or invest in real estate that would profit them in long term. \n\n\n\n## Details of the project.\n###### The Data will be using in this project is Foursquare data of couple of City details along with Airport details and School in the same area. The data used to cluster, based on the similarity of number of school\u2019s availability and airport distance. The city location details and the city school and airport details will be used in this project to drive the result, which would help people who is moving to Texas to make a decision where they want to settle.", 
            "cell_type": "markdown", 
            "metadata": {
                "collapsed": true
            }
        }, 
        {
            "source": "", 
            "cell_type": "code", 
            "metadata": {}, 
            "outputs": [], 
            "execution_count": null
        }
    ], 
    "metadata": {
        "kernelspec": {
            "display_name": "Python 3.5", 
            "name": "python3", 
            "language": "python"
        }, 
        "language_info": {
            "mimetype": "text/x-python", 
            "nbconvert_exporter": "python", 
            "version": "3.5.5", 
            "name": "python", 
            "file_extension": ".py", 
            "pygments_lexer": "ipython3", 
            "codemirror_mode": {
                "version": 3, 
                "name": "ipython"
            }
        }
    }, 
    "nbformat": 4
}